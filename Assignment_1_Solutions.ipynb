{
 "cells": [
  {
   "cell_type": "raw",
   "metadata": {},
   "source": [
    "1. In the below elements which of them are values or an expression? eg:- values can be\n",
    "integer or string and expressions will be mathematical operators.\n",
    "*\n",
    "'hello'\n",
    "-87.8\n",
    "-\n",
    "/\n",
    "+\n",
    "6\n",
    "\n",
    "Solution :\n",
    "\n",
    "* : Expression\n",
    "'hello' : Values\n",
    "-87.8 : Values\n",
    "- : Expresion\n",
    "/ : Expression\n",
    "+ : Expression\n",
    "6 : Values"
   ]
  },
  {
   "cell_type": "raw",
   "metadata": {},
   "source": [
    "2. What is the difference between string and variable?\n",
    "\n",
    "Solution :\n",
    "String :\n",
    "It is a data type.\n",
    "It's a sequence of characters. \n",
    "we cannot perform calculation with the Strings.\n",
    "\n",
    "Variable :\n",
    "It is a reference to values that have different data types.\n",
    "It's a naming convention given to the values.\n",
    "It is a storage for storing data values."
   ]
  },
  {
   "cell_type": "raw",
   "metadata": {},
   "source": [
    "3. Describe three different data types.\n",
    "\n",
    "Solution :\n",
    "Python has five standard data types −\n",
    "\n",
    "Numbers\n",
    "String\n",
    "List\n",
    "Tuple\n",
    "Dictionary\n",
    "\n",
    "Numbers :\n",
    "These data types store numeric values. Number objects are created when you assign a value to them.\n",
    "ex : int, long, float, complex\n",
    "\n",
    "Strings:\n",
    "Strings in Python are identified as a continous sequence of characters represented in the quotation marks.\n",
    "\n",
    "Lists:\n",
    "Lists are onw of the important data types. A list contains items separated by commas and enclosed within square brackets ([]).\n",
    "These contains items of any data type."
   ]
  },
  {
   "cell_type": "raw",
   "metadata": {},
   "source": [
    "4. What is an expression made up of? What do all expressions do?\n",
    "\n",
    "Solution :\n",
    "An expression is a combination of operators, constants and variables.\n",
    "Expressions are used to calculte or generate the resultant values or to get the final result of the expression."
   ]
  },
  {
   "cell_type": "raw",
   "metadata": {},
   "source": [
    "5. This assignment statements, like spam = 10. What is the difference between an expression and a statement?\n",
    "\n",
    "Solution :\n",
    "An expression is a combination of operators, constants and variables.\n",
    "A statement is an instruction that a Python interpreter can execute."
   ]
  },
  {
   "cell_type": "raw",
   "metadata": {},
   "source": [
    "6. After running the following code, what does the variable bacon contain?\n",
    "bacon = 22\n",
    "bacon + 1\n",
    "\n",
    "Solution :\n",
    "\n",
    "23"
   ]
  },
  {
   "cell_type": "raw",
   "metadata": {},
   "source": [
    "7. What should the values of the following two terms be?\n",
    "'spam' + 'spamspam'\n",
    "'spam' * 3\n",
    "\n",
    "Solution :\n",
    "'spam' + 'spamspam' it'll give 'spamspamspam'\n",
    "'spam' * 3 it'll give 'spamspamspam'"
   ]
  },
  {
   "cell_type": "raw",
   "metadata": {},
   "source": [
    "8. Why is eggs a valid variable name while 100 is invalid?\n",
    "\n",
    "Solution :\n",
    "Because a variable name can not start with number.\n",
    "It should start with any alphabet."
   ]
  },
  {
   "cell_type": "raw",
   "metadata": {},
   "source": [
    "9. What three functions can be used to get the integer, floating-point number, or string version of a value?\n",
    "\n",
    "Solution : \n",
    "integer -> int()\n",
    "floating-point -> float()\n",
    "string -> str()\n"
   ]
  },
  {
   "cell_type": "raw",
   "metadata": {},
   "source": [
    "10. Why does this expression cause an error? How can you fix it?\n",
    "'I have eaten ' + 99 + ' burritos.'\n",
    "\n",
    "Solution :\n",
    "This expression will cause an error because 99 is not the string we can concatenate only strings using + operator.\n",
    "So we can fix it by making 99 as string.\n",
    "\n",
    "'I have eaten ' + str(99) + ' burritos.'"
   ]
  }
 ],
 "metadata": {
  "kernelspec": {
   "display_name": "Python 3",
   "language": "python",
   "name": "python3"
  },
  "language_info": {
   "codemirror_mode": {
    "name": "ipython",
    "version": 3
   },
   "file_extension": ".py",
   "mimetype": "text/x-python",
   "name": "python",
   "nbconvert_exporter": "python",
   "pygments_lexer": "ipython3",
   "version": "3.6.7"
  }
 },
 "nbformat": 4,
 "nbformat_minor": 2
}
